{
  "nbformat": 4,
  "nbformat_minor": 0,
  "metadata": {
    "colab": {
      "provenance": []
    },
    "kernelspec": {
      "name": "python3",
      "display_name": "Python 3"
    },
    "language_info": {
      "name": "python"
    }
  },
  "cells": [
    {
      "cell_type": "markdown",
      "source": [
        "Importing librairies"
      ],
      "metadata": {
        "id": "EVbtF3JFhlbO"
      }
    },
    {
      "cell_type": "code",
      "source": [
        "import matplotlib.pyplot as plt\n",
        "import tensorflow as tf\n",
        "import numpy as np\n",
        "import pandas as pd\n",
        "from sklearn.metrics import confusion_matrix\n",
        "import seaborn as sns"
      ],
      "metadata": {
        "id": "bYUAkmouhmSE"
      },
      "execution_count": null,
      "outputs": []
    },
    {
      "cell_type": "code",
      "source": [
        "# Load the Fashion MNIST dataset\n",
        "fashion_mnist = tf.keras.datasets.fashion_mnist\n",
        "(images, targets), (images_test, targets_test) = fashion_mnist.load_data()\n"
      ],
      "metadata": {
        "id": "J23hY4Fsi_Jt"
      },
      "execution_count": null,
      "outputs": []
    },
    {
      "cell_type": "code",
      "source": [
        "# Convert the format and normalize\n",
        "images = images.astype(float) / 255\n",
        "images_test = images_test.astype(float) / 255"
      ],
      "metadata": {
        "id": "8OC8JjdWi_3C"
      },
      "execution_count": null,
      "outputs": []
    },
    {
      "cell_type": "code",
      "source": [
        "# Check the shapes of the dataset\n",
        "print(images.shape)\n",
        "print(targets.shape)"
      ],
      "metadata": {
        "id": "X33qNdzKi_5X"
      },
      "execution_count": null,
      "outputs": []
    },
    {
      "cell_type": "code",
      "source": [
        "# Display the 500th image\n",
        "plt.imshow(images[500], cmap='gray')  # Added cmap='gray' to display grayscale images\n",
        "plt.show()"
      ],
      "metadata": {
        "id": "l1eHaxT1i_74"
      },
      "execution_count": null,
      "outputs": []
    },
    {
      "cell_type": "code",
      "source": [
        "# Define target names\n",
        "targets_names = [\"T-shirt\", \"Trouser\", \"Pullover\", \"Dress\", \"Coat\", \"Sandal\",\n",
        "                 \"Shirt\", \"Sneaker\", \"Bag\", \"Ankle boot\"]"
      ],
      "metadata": {
        "id": "sRo4902Di_-m"
      },
      "execution_count": null,
      "outputs": []
    },
    {
      "cell_type": "code",
      "source": [
        "# Flatten the data\n",
        "model = tf.keras.models.Sequential()\n"
      ],
      "metadata": {
        "id": "NHOx653djAA-"
      },
      "execution_count": null,
      "outputs": []
    },
    {
      "cell_type": "code",
      "source": [
        "# Add the layers\n",
        "model.add(tf.keras.layers.Flatten(input_shape=[28, 28]))\n",
        "model.add(tf.keras.layers.Dense(128, activation=\"relu\"))  # Removed one dense layer\n",
        "model.add(tf.keras.layers.Dense(10, activation=\"softmax\"))"
      ],
      "metadata": {
        "id": "QPDcm_nLjADu"
      },
      "execution_count": null,
      "outputs": []
    },
    {
      "cell_type": "code",
      "source": [
        "model.summary()"
      ],
      "metadata": {
        "id": "bbakAZJhjAGu"
      },
      "execution_count": null,
      "outputs": []
    },
    {
      "cell_type": "code",
      "source": [
        "# Compile the model\n",
        "model.compile(\n",
        "    loss=\"sparse_categorical_crossentropy\",\n",
        "    optimizer=\"adam\",\n",
        "    metrics=[\"accuracy\"]\n",
        ")"
      ],
      "metadata": {
        "id": "1r-KATAJjAJu"
      },
      "execution_count": null,
      "outputs": []
    },
    {
      "cell_type": "code",
      "source": [
        "# Data augmentation using ImageDataGenerator\n",
        "datagen = tf.keras.preprocessing.image.ImageDataGenerator(\n",
        "    rotation_range=10,  # Rotate images by up to 10 degrees\n",
        "    width_shift_range=0.1,  # Shift images horizontally by up to 10%\n",
        "    height_shift_range=0.1,  # Shift images vertically by up to 10%\n",
        "    shear_range=0.2,  # Shear transformations\n",
        "    zoom_range=0.2,  # Zoom in/out by up to 20%\n",
        "    horizontal_flip=True  # Flip images horizontally\n",
        ")"
      ],
      "metadata": {
        "id": "nPhfZdYgjVEk"
      },
      "execution_count": null,
      "outputs": []
    },
    {
      "cell_type": "code",
      "source": [
        "# Train the model with augmented data\n",
        "history = model.fit(datagen.flow(images.reshape(-1, 28, 28, 1), targets, batch_size=32),\n",
        "                    epochs=10, validation_split=0.2)"
      ],
      "metadata": {
        "id": "Pg-3JvbBjVH_"
      },
      "execution_count": null,
      "outputs": []
    },
    {
      "cell_type": "code",
      "source": [
        "# Plot training history\n",
        "loss_curve = history.history[\"loss\"]\n",
        "acc_curve = history.history[\"accuracy\"]\n",
        "loss_val_curve = history.history[\"val_loss\"]\n",
        "acc_val_curve = history.history[\"val_accuracy\"]"
      ],
      "metadata": {
        "id": "ibib9KHfjVOH"
      },
      "execution_count": null,
      "outputs": []
    },
    {
      "cell_type": "code",
      "source": [
        "plt.plot(loss_curve, label=\"Train\")\n",
        "plt.plot(loss_val_curve, label=\"Val\")\n",
        "plt.legend(loc='upper left')\n",
        "plt.title(\"Loss\")\n",
        "plt.show()"
      ],
      "metadata": {
        "id": "VCmQvIonjVRo"
      },
      "execution_count": null,
      "outputs": []
    },
    {
      "cell_type": "code",
      "source": [
        "plt.plot(acc_curve, label=\"Train\")\n",
        "plt.plot(acc_val_curve, label=\"Val\")\n",
        "plt.legend(loc='upper left')\n",
        "plt.title(\"Accuracy\")\n",
        "plt.show()"
      ],
      "metadata": {
        "id": "Bj08UgYHjhRX"
      },
      "execution_count": null,
      "outputs": []
    },
    {
      "cell_type": "code",
      "source": [
        "# Evaluate on the test set\n",
        "loss, acc = model.evaluate(images_test.reshape(-1, 28, 28, 1), targets_test)\n",
        "print(\"Test Loss\", loss)\n",
        "print(\"Test Accuracy\", acc)"
      ],
      "metadata": {
        "id": "idTdqFGmjhVK"
      },
      "execution_count": null,
      "outputs": []
    },
    {
      "cell_type": "code",
      "source": [
        "# Build a CNN model with data augmentation\n",
        "model_cnn = tf.keras.Sequential()\n",
        "model_cnn.add(tf.keras.layers.Conv2D(32, kernel_size=(3, 3), activation='relu', input_shape=(28, 28, 1)))\n",
        "model_cnn.add(tf.keras.layers.MaxPooling2D(pool_size=(2, 2)))\n",
        "model_cnn.add(tf.keras.layers.Flatten())\n",
        "model_cnn.add(tf.keras.layers.Dense(128, activation='relu'))\n",
        "model_cnn.add(tf.keras.layers.Dense(10, activation='softmax'))"
      ],
      "metadata": {
        "id": "U2XL_d0Njl8U"
      },
      "execution_count": null,
      "outputs": []
    },
    {
      "cell_type": "code",
      "source": [
        "\n",
        "model_cnn.summary()"
      ],
      "metadata": {
        "id": "YoY9jyVtjmAB"
      },
      "execution_count": null,
      "outputs": []
    },
    {
      "cell_type": "code",
      "source": [
        "# Compile the CNN model\n",
        "model_cnn.compile(\n",
        "    loss=\"sparse_categorical_crossentropy\",\n",
        "    optimizer=\"adam\",\n",
        "    metrics=[\"accuracy\"]\n",
        ")"
      ],
      "metadata": {
        "id": "GnEgon1NjmDF"
      },
      "execution_count": null,
      "outputs": []
    },
    {
      "cell_type": "code",
      "source": [
        "# Train the CNN model with augmented data\n",
        "history_cnn = model_cnn.fit(datagen.flow(images.reshape(-1, 28, 28, 1), targets, batch_size=32),\n",
        "                             epochs=5, validation_split=0.2)"
      ],
      "metadata": {
        "id": "2r_EV9lhjvl4"
      },
      "execution_count": null,
      "outputs": []
    },
    {
      "cell_type": "code",
      "source": [
        "# Plot training history for the CNN model\n",
        "loss_curve_cnn = history_cnn.history[\"loss\"]\n",
        "acc_curve_cnn = history_cnn.history[\"accuracy\"]\n",
        "loss_val_curve_cnn = history_cnn.history[\"val_loss\"]\n",
        "acc_val_curve_cnn = history_cnn.history[\"val_accuracy\"]"
      ],
      "metadata": {
        "id": "hkCcLaeYjvu5"
      },
      "execution_count": null,
      "outputs": []
    },
    {
      "cell_type": "code",
      "source": [
        "plt.plot(loss_curve_cnn, label=\"Train\")\n",
        "plt.plot(loss_val_curve_cnn, label=\"Val\")\n",
        "plt.legend(loc='upper left')\n",
        "plt.title(\"Evolution de la fonction de perte (CNN)\")\n",
        "plt.show()"
      ],
      "metadata": {
        "id": "JEcXnGLQjzEG"
      },
      "execution_count": null,
      "outputs": []
    },
    {
      "cell_type": "code",
      "source": [
        "plt.plot(acc_curve_cnn, label=\"Train\")\n",
        "plt.plot(acc_val_curve_cnn, label=\"Val\")\n",
        "plt.legend(loc='upper left')\n",
        "plt.title(\"Evolution de la performance du modèle (CNN)\")\n",
        "plt.show()"
      ],
      "metadata": {
        "id": "_n_ci7RPjzHV"
      },
      "execution_count": null,
      "outputs": []
    },
    {
      "cell_type": "code",
      "source": [
        "# Predictions using the CNN model\n",
        "predictions_cnn = model_cnn.predict(images_test.reshape(-1, 28, 28, 1))\n"
      ],
      "metadata": {
        "id": "Yvi-5dstjzKW"
      },
      "execution_count": null,
      "outputs": []
    },
    {
      "cell_type": "code",
      "source": [
        "# Convert predictions to class labels\n",
        "predictions_cnn = np.argmax(predictions_cnn, axis=1)\n"
      ],
      "metadata": {
        "id": "rLtMUtl-kMV9"
      },
      "execution_count": null,
      "outputs": []
    },
    {
      "cell_type": "code",
      "source": [
        "# Display confusion matrix for CNN model\n",
        "mat_cnn = confusion_matrix(targets_test, predictions_cnn)\n",
        "sns.heatmap(mat_cnn.T, square=True, annot=True, fmt='d', cbar=False, xticklabels=targets_names, yticklabels=targets_names)\n",
        "plt.xlabel('Catégorie effective')\n",
        "plt.ylabel('Catégorie prédite')\n",
        "plt.show()"
      ],
      "metadata": {
        "id": "cX--St9AkMYw"
      },
      "execution_count": null,
      "outputs": []
    }
  ]
}